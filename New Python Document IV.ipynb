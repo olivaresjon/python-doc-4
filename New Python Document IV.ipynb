{
 "cells": [
  {
   "cell_type": "markdown",
   "metadata": {},
   "source": [
    "# Object-Oriented-Programming (OOP)"
   ]
  },
  {
   "cell_type": "markdown",
   "metadata": {},
   "source": [
    "## Tasks Today:\n",
    "\n",
    "   \n",
    "\n",
    "1) <b>Creating a Class (Initializing/Declaring)</b> <br>\n",
    "2) <b>Using a Class (Instantiating)</b> <br>\n",
    " &nbsp;&nbsp;&nbsp;&nbsp; a) Creating One Instance <br>\n",
    " &nbsp;&nbsp;&nbsp;&nbsp; b) Creating Multiple Instances <br>\n",
    " &nbsp;&nbsp;&nbsp;&nbsp; c) In-Class Exercise #1 - Create a Class 'Car' and instantiate three different makes of cars <br>\n",
    "3) <b>The \\__init\\__() Method</b> <br>\n",
    " &nbsp;&nbsp;&nbsp;&nbsp; a) The 'self' Attribute <br>\n",
    "4) <b>Class Attributes</b> <br>\n",
    " &nbsp;&nbsp;&nbsp;&nbsp; a) Initializing Attributes <br>\n",
    " &nbsp;&nbsp;&nbsp;&nbsp; b) Setting an Attribute Outside of the \\__init\\__() Method <br>\n",
    " &nbsp;&nbsp;&nbsp;&nbsp; c) Setting Defaults for Attributes <br>\n",
    " &nbsp;&nbsp;&nbsp;&nbsp; d) Accessing Class Attributes <br>\n",
    " &nbsp;&nbsp;&nbsp;&nbsp; e) Changing Class Attributes <br>\n",
    " &nbsp;&nbsp;&nbsp;&nbsp; f) In-Class Exercise #2 - Add a color and wheels attribute to your 'Car' class <br>\n",
    "5) <b>Class Methods</b> <br>\n",
    " &nbsp;&nbsp;&nbsp;&nbsp; a) Creating <br>\n",
    " &nbsp;&nbsp;&nbsp;&nbsp; b) Calling <br>\n",
    " &nbsp;&nbsp;&nbsp;&nbsp; c) Modifying an Attribute's Value Through a Method <br>\n",
    " &nbsp;&nbsp;&nbsp;&nbsp; d) Incrementing an Attribute's Value Through a Method <br>\n",
    " &nbsp;&nbsp;&nbsp;&nbsp; e) In-Class Exercise #3 - Add a method that prints the cars color and wheel number, then call them <br>\n",
    "6) <b>Inheritance</b> <br>\n",
    " &nbsp;&nbsp;&nbsp;&nbsp; a) Syntax for Inheriting from a Parent Class <br>\n",
    " &nbsp;&nbsp;&nbsp;&nbsp; b) The \\__init\\__() Method for a Child Class (super()) <br>\n",
    " &nbsp;&nbsp;&nbsp;&nbsp; c) Defining Attributes and Methods for the Child Class <br>\n",
    " &nbsp;&nbsp;&nbsp;&nbsp; d) Method Overriding <br>\n",
    " &nbsp;&nbsp;&nbsp;&nbsp; e) In-Class Exercise #4 - Create a class 'Ford' that inherits from 'Car' class and initialize it as a Blue Ford Explorer with 4 wheels using the super() method <br>\n",
    "7) <b>Classes as Attributes</b> <br>\n",
    "8) <b>Exercises</b> <br>\n",
    " &nbsp;&nbsp;&nbsp;&nbsp; a) Exercise #1 - Turn the shopping cart program from yesterday into an object-oriented program <br>"
   ]
  },
  {
   "cell_type": "markdown",
   "metadata": {},
   "source": [
    "## Creating a Class (Initializing/Declaring)\n",
    "<p>When creating a class, function, or even a variable you are initializing that object. Initializing and Declaring occur at the same time in Python, whereas in lower level languages you have to declare an object before initializing it. This is the first step in the process of using a class.</p>"
   ]
  },
  {
   "cell_type": "code",
   "execution_count": 1,
   "metadata": {},
   "outputs": [],
   "source": [
    "class Class():\n",
    "    wheels = '4'\n",
    "    doors = '4'\n"
   ]
  },
  {
   "cell_type": "markdown",
   "metadata": {},
   "source": [
    "## Using a Class (Instantiating)\n",
    "<p>The process of creating a class is called <i>Instantiating</i>. Each time you create a variable of that type of class, it is referred to as an <i>Instance</i> of that class. This is the second step in the process of using a class.</p>"
   ]
  },
  {
   "cell_type": "markdown",
   "metadata": {},
   "source": [
    "##### Creating One Instance"
   ]
  },
  {
   "cell_type": "code",
   "execution_count": 6,
   "metadata": {},
   "outputs": [
    {
     "name": "stdout",
     "output_type": "stream",
     "text": [
      "my car has 4 wheels\n",
      "4\n"
     ]
    }
   ],
   "source": [
    "ford = Class() #this is an instance\n",
    "\n",
    "print(\"my car has \" + ford.wheels + \" wheels\") #this is using the atrributes inside of the instance\n",
    "print(ford.doors) #this is using the atrributes inside of the instance\n"
   ]
  },
  {
   "cell_type": "markdown",
   "metadata": {},
   "source": [
    "##### Creating Multiple Instances"
   ]
  },
  {
   "cell_type": "code",
   "execution_count": 7,
   "metadata": {},
   "outputs": [
    {
     "name": "stdout",
     "output_type": "stream",
     "text": [
      "my car has 4 wheels\n",
      "4\n"
     ]
    }
   ],
   "source": [
    "ford = Class()  #instance 1\n",
    "toyota = Class() #instance 2\n",
    "\n",
    "print(\"my car has \" + ford.wheels + \" wheels\")\n",
    "print(toyota.doors)\n"
   ]
  },
  {
   "cell_type": "markdown",
   "metadata": {},
   "source": [
    "##### In-Class Exercise #1 - Create a Class 'Car' and Instantiate three different makes of cars"
   ]
  },
  {
   "cell_type": "code",
   "execution_count": 7,
   "metadata": {},
   "outputs": [
    {
     "name": "stdout",
     "output_type": "stream",
     "text": [
      "4\n",
      "green\n",
      "2\n"
     ]
    }
   ],
   "source": [
    "class Car():\n",
    "    wheels = \"4\" #attribute 1\n",
    "    color = 'green' #attribute 2\n",
    "    doors = \"2\" #attribute 3\n",
    "miata = Car()\n",
    "ford = Car()\n",
    "poniac = Car()\n",
    "print(miata.wheels) #instance 1\n",
    "print(ford.color) #instance 2\n",
    "print(poniac.doors) #instance 3\n",
    "    "
   ]
  },
  {
   "cell_type": "markdown",
   "metadata": {},
   "source": [
    "## The \\__init\\__() Method <br>\n",
    "<p>This method is used in almost every created class, and called only once upon the creation of the class instance. This method will initialize all variables needed for the object.</p>"
   ]
  },
  {
   "cell_type": "code",
   "execution_count": 11,
   "metadata": {},
   "outputs": [
    {
     "name": "stdout",
     "output_type": "stream",
     "text": [
      "My Blue mazda is the best\n",
      "Red\n"
     ]
    }
   ],
   "source": [
    "class Class():\n",
    "    engine = '4.7L'\n",
    "    def __init__(self,wheels,color):\n",
    "        self.wheels = wheels\n",
    "        self.color = color\n",
    "        \n",
    "\n",
    "mazda = Class('4', 'Blue')\n",
    "toyo = Class('6','Red')\n",
    "print(f\"My {mazda.color} mazda is the best\")\n",
    "print(toyo.color)\n"
   ]
  },
  {
   "cell_type": "markdown",
   "metadata": {},
   "source": [
    "##### The 'self' Attribute <br>\n",
    "<p>This attribute is required to keep track of specific instance's attributes. Without the self attribute, the program would not know how to reference or keep track of an instance's attributes.</p>"
   ]
  },
  {
   "cell_type": "code",
   "execution_count": 18,
   "metadata": {},
   "outputs": [
    {
     "name": "stdout",
     "output_type": "stream",
     "text": [
      "Brown\n",
      "Tan\n",
      "Long\n"
     ]
    }
   ],
   "source": [
    "# see above\n",
    "class Class():\n",
    "    \n",
    "    def __init__(self,hair,skin,nails):\n",
    "        self.hair = hair\n",
    "        self.skin = skin\n",
    "        self.nails = nails\n",
    "info = Class('Brown','Tan','Long')\n",
    "print(info.hair)\n",
    "print(info.skin)\n",
    "print(info.nails)"
   ]
  },
  {
   "cell_type": "markdown",
   "metadata": {},
   "source": [
    "## Class Attributes <br>\n",
    "<p>While variables are inside of a class, they are referred to as attributes and not variables. When someone says 'attribute' you know they're speaking about a class. Attributes can be initialized through the init method, or outside of it.</p>"
   ]
  },
  {
   "cell_type": "markdown",
   "metadata": {},
   "source": [
    "##### Initializing Attributes"
   ]
  },
  {
   "cell_type": "code",
   "execution_count": 21,
   "metadata": {},
   "outputs": [],
   "source": [
    "class Car_model():\n",
    "    car = \"mazda\" #this is a constant\n",
    "    \n",
    "    def __init__(self, seats, doors): #This is not a function, this is a method.\n",
    "        self.seats = seats #these would be the attributes of the car\n",
    "        self.doors = doors\n",
    "        \n",
    "miata = Car_model(\"leather\",\"two\") #Miata seats are leather, and has two doors. this would be intializing the attributes\n",
    "cx_5 = Car_model(\"polyester\",\"four\") #cx-5 has polyester seats with four doors. this would be intializing the attributes"
   ]
  },
  {
   "cell_type": "markdown",
   "metadata": {},
   "source": [
    "##### Accessing Class Attributes"
   ]
  },
  {
   "cell_type": "code",
   "execution_count": 23,
   "metadata": {
    "scrolled": true
   },
   "outputs": [
    {
     "name": "stdout",
     "output_type": "stream",
     "text": [
      "leather\n",
      "four\n"
     ]
    }
   ],
   "source": [
    "#these are both examples of accessing class attributes\n",
    "print(miata.seats) \n",
    "print(cx_5.doors)"
   ]
  },
  {
   "cell_type": "markdown",
   "metadata": {},
   "source": [
    "##### Setting Defaults for Attributes"
   ]
  },
  {
   "cell_type": "code",
   "execution_count": 2,
   "metadata": {},
   "outputs": [
    {
     "name": "stdout",
     "output_type": "stream",
     "text": [
      "my new Iphone 14 is blue with a USB-C charging port!\n",
      "black\n"
     ]
    }
   ],
   "source": [
    "class Class():\n",
    "    Phone = \"apple\"\n",
    "    def __init__(self, color, charging_port):\n",
    "        self.color = color\n",
    "        self.charging_port = charging_port\n",
    "        self.model = \"Iphone 14\" #this is the default attribute\n",
    "         \n",
    "newphone = Class(color = \"blue\", charging_port = \"USB-C\")\n",
    "print(f\"my new {newphone.model} is {newphone.color} with a {newphone.charging_port} charging port!\" )\n",
    "newphone.color = \"black\" #changing class atrribute\n",
    "print(newphone.color) #printing the changed attribute"
   ]
  },
  {
   "cell_type": "markdown",
   "metadata": {},
   "source": [
    "##### Changing Class Attributes <br>\n",
    "<p>Keep in mind there are global class attributes and then there are attributes only available to each class instance which won't effect other classes.</p>"
   ]
  },
  {
   "cell_type": "code",
   "execution_count": null,
   "metadata": {},
   "outputs": [],
   "source": [
    "#see above\n"
   ]
  },
  {
   "cell_type": "code",
   "execution_count": null,
   "metadata": {},
   "outputs": [],
   "source": []
  },
  {
   "cell_type": "markdown",
   "metadata": {},
   "source": [
    "##### In-Class Exercise #2 - Add a doors and seats attribute to your 'Car' class then print out two different instances with different doors and seats"
   ]
  },
  {
   "cell_type": "code",
   "execution_count": 4,
   "metadata": {},
   "outputs": [
    {
     "name": "stdout",
     "output_type": "stream",
     "text": [
      "The Miata has leather seats and two doors\n",
      "The cx-5 has four doors and polyester seats\n"
     ]
    }
   ],
   "source": [
    "class Car_model():\n",
    "    car = \"mazda\" #this is a constant\n",
    "    \n",
    "    def __init__(self, seats, doors): #This is not a function, this is a method.\n",
    "        self.seats = seats #these would be the attributes of the car\n",
    "        self.doors = doors\n",
    "        \n",
    "miata = Car_model(\"leather\",\"two\") #Miata seats are leather, and has two doors. Car_model instance\n",
    "cx_5 = Car_model(\"polyester\",\"four\") #Car_model instance\n",
    "print(f'The Miata has {miata.seats} seats and {miata.doors} doors')\n",
    "print(f'The cx-5 has {cx_5.doors} doors and {cx_5.seats} seats')\n"
   ]
  },
  {
   "cell_type": "markdown",
   "metadata": {},
   "source": [
    "## Class Methods <br>\n",
    "<p>While inside of a class, functions are referred to as 'methods'. If you hear someone mention methods, they're speaking about classes. Methods are essentially functions, but only callable on the instances of a class.</p>"
   ]
  },
  {
   "cell_type": "markdown",
   "metadata": {},
   "source": [
    "##### Creating"
   ]
  },
  {
   "cell_type": "code",
   "execution_count": 25,
   "metadata": {},
   "outputs": [],
   "source": [
    "class shoppingBag():\n",
    "    \n",
    "    def __init__(self,handles,capacity,items):\n",
    "        self.handles = handles\n",
    "        self.capacity = capacity\n",
    "        self.items = items\n",
    "        \n",
    "    def showShoppingbag(self):\n",
    "        print(\"You have items in your bag!\")\n",
    "        for item in self.items:\n",
    "            print(item)\n",
    "    def showCapacity(self):\n",
    "        print(f\"The max capacity of your shopping bag is: {self.capacity}\")\n",
    "    def addtoShoppingbag(self):\n",
    "        user_response = input(\"what item would you like to add to your bag?: \")\n",
    "        self.items.append(user_response)\n",
    "    def changedCapacity(self, capacity):\n",
    "        self.capacity = capacity\n",
    "    def increaseCapacity(self, changed_capacity = 10):\n",
    "        self.capacity += changed_capacity\n",
    "        "
   ]
  },
  {
   "cell_type": "markdown",
   "metadata": {},
   "source": [
    "##### Calling"
   ]
  },
  {
   "cell_type": "code",
   "execution_count": 26,
   "metadata": {},
   "outputs": [
    {
     "name": "stdout",
     "output_type": "stream",
     "text": [
      "what would you like to do? Add/Show/Quit: add\n",
      "what item would you like to add to your bag?: apples\n",
      "what would you like to do? Add/Show/Quit: add\n",
      "what item would you like to add to your bag?: cookies\n",
      "what would you like to do? Add/Show/Quit: add\n",
      "what item would you like to add to your bag?: fruit\n",
      "what would you like to do? Add/Show/Quit: show\n",
      "You have items in your bag!\n",
      "apples\n",
      "cookies\n",
      "fruit\n",
      "what would you like to do? Add/Show/Quit: Quit\n",
      "Thank for browsing, come see us again!\n",
      "You have items in your bag!\n",
      "apples\n",
      "cookies\n",
      "fruit\n"
     ]
    }
   ],
   "source": [
    "placeHolder = shoppingBag(2,10,[])\n",
    "\n",
    "def question():\n",
    "    while True:\n",
    "        response = input(\"what would you like to do? Add/Show/Quit: \")\n",
    "        if response.lower() == \"quit\":\n",
    "            print(\"Thank for browsing, come see us again!\")\n",
    "            placeHolder.showShoppingbag()\n",
    "            break\n",
    "        elif response.lower() == \"add\":\n",
    "            placeHolder.addtoShoppingbag()\n",
    "        \n",
    "        elif response.lower() == \"show\":\n",
    "            placeHolder.showShoppingbag()\n",
    "        else:\n",
    "            print(\"invalid input, try again\")\n",
    "question()"
   ]
  },
  {
   "cell_type": "markdown",
   "metadata": {},
   "source": [
    "##### Modifying an Attribute's Value Through a Method"
   ]
  },
  {
   "cell_type": "code",
   "execution_count": 11,
   "metadata": {},
   "outputs": [
    {
     "name": "stdout",
     "output_type": "stream",
     "text": [
      "The max capacity of your shopping bag is: 30\n",
      "capacity after change\n",
      "The max capacity of your shopping bag is: 50\n"
     ]
    }
   ],
   "source": [
    "placeHolder.showCapacity()\n",
    "print(\"capacity after change\")\n",
    "placeHolder.changedCapacity(50)\n",
    "placeHolder.showCapacity()\n"
   ]
  },
  {
   "cell_type": "markdown",
   "metadata": {},
   "source": [
    "##### Incrementing an Attribute's Value Through a Method"
   ]
  },
  {
   "cell_type": "code",
   "execution_count": 15,
   "metadata": {},
   "outputs": [
    {
     "name": "stdout",
     "output_type": "stream",
     "text": [
      "The max capacity of your shopping bag is: 10\n",
      "The max capacity of your shopping bag is: 20\n"
     ]
    }
   ],
   "source": [
    "#before incrementing\n",
    "placeHolder.showCapacity()\n",
    "#after incrementing\n",
    "placeHolder.increaseCapacity()\n",
    "placeHolder.showCapacity()"
   ]
  },
  {
   "cell_type": "markdown",
   "metadata": {},
   "source": [
    "##### In-Class Exercise #3 - Add a method that takes in three parameters of year, doors and seats and prints out a formatted print statement with make, model, year, seats, and doors"
   ]
  },
  {
   "cell_type": "code",
   "execution_count": 14,
   "metadata": {},
   "outputs": [
    {
     "name": "stdout",
     "output_type": "stream",
     "text": [
      "what is the make of your car? toyota\n",
      "what is the model of your car? camry\n",
      "what year is your car? 2012\n",
      "how many doors does the car have? four\n",
      "how many seats does the car have? five\n",
      "This car is a Toyota Camry from 2012 with four doors and five seats\n"
     ]
    }
   ],
   "source": [
    "class Car():\n",
    "    def __init__(self, make , model):\n",
    "        self.make = make\n",
    "        self.model = model\n",
    "\n",
    "    \n",
    "    def car_info(self, year, doors, seats):\n",
    "        print(\"This car is a {} {} from {} with {} doors and {} seats\".format(self.make,self.model,year,doors,seats))\n",
    "make = input(\"what is the make of your car? \").title()\n",
    "model = input(\"what is the model of your car? \").title()\n",
    "year = input(\"what year is your car? \").title()\n",
    "doors = input(\"how many doors does the car have? \")\n",
    "seats = input(\"how many seats does the car have? \")\n",
    "complete_car = Car(make, model)\n",
    "complete_car.car_info(year, doors, seats)\n",
    "\n",
    "\n",
    "        \n",
    "    \n",
    "\n"
   ]
  },
  {
   "cell_type": "markdown",
   "metadata": {},
   "source": [
    "## Inheritance <br>\n",
    "<p>You can create a child-parent relationship between two classes by using inheritance. What this allows you to do is have overriding methods, but also inherit traits from the parent class. Think of it as an actual parent and child, the child will inherit the parent's genes, as will the classes in OOP</p>"
   ]
  },
  {
   "cell_type": "markdown",
   "metadata": {},
   "source": [
    "##### Syntax for Inheriting from a Parent Class"
   ]
  },
  {
   "cell_type": "code",
   "execution_count": 21,
   "metadata": {},
   "outputs": [
    {
     "name": "stdout",
     "output_type": "stream",
     "text": [
      "ooh ooh ahh ahh *Monkey noise*\n",
      "The animal can run 11m/s because it has 4 legs.This animal has beautiful green eyes\n"
     ]
    }
   ],
   "source": [
    "#parent class\n",
    "class Dog():\n",
    "    velocity = \"9.8m/s\"\n",
    "    def __init__(self,name,species,legs=4):\n",
    "        self.name = name\n",
    "        self.species = species\n",
    "        self.legs = legs\n",
    "    \n",
    "    def makeSound(self):\n",
    "        return f\"ooh ooh ahh ahh *{self.species} noise*\"\n",
    "#child class\n",
    "class Animal(Dog):\n",
    "    speed = \"11m/s\"\n",
    "    def __init__(self,name,species,eye_color,legs=4):\n",
    "        Dog.__init__(self,name,species,legs)\n",
    "        self.eye_color = eye_color\n",
    "\n",
    "    def Info(self):\n",
    "        return f\"The animal can run {self.speed} because it has {self.legs} legs.This animal has beautiful {self.eye_color} eyes\"\n",
    "\n",
    "complete = Dog(\"Jorge\", \"Monkey\")\n",
    "final = Animal(\"milo\",\"cat\",\"green\")\n",
    "\n",
    "  \n",
    "print(complete.makeSound())\n",
    "print(final.Info())  \n"
   ]
  },
  {
   "cell_type": "markdown",
   "metadata": {},
   "source": [
    "##### The \\__init\\__() Method for a Child Class - super()"
   ]
  },
  {
   "cell_type": "code",
   "execution_count": 23,
   "metadata": {
    "scrolled": true
   },
   "outputs": [
    {
     "name": "stdout",
     "output_type": "stream",
     "text": [
      "ooh ooh ahh ahh *Monkey noise*\n",
      "The animal can run 11m/s because it has 4 legs.This animal has beautiful green eyes\n"
     ]
    }
   ],
   "source": [
    "#parent class\n",
    "class Dog():\n",
    "    velocity = \"9.8m/s\"\n",
    "    def __init__(self,name,species,legs=4):\n",
    "        self.name = name\n",
    "        self.species = species\n",
    "        self.legs = legs\n",
    "    \n",
    "    def makeSound(self):\n",
    "        return f\"ooh ooh ahh ahh *{self.species} noise*\"\n",
    "#child class\n",
    "class Animal(Dog):\n",
    "    speed = \"11m/s\"\n",
    "    def __init__(self,name,species,eye_color,legs=4):\n",
    "        super().__init__(name,species,legs)\n",
    "        self.eye_color = eye_color\n",
    "\n",
    "    def Info(self):\n",
    "        return f\"The animal can run {self.speed} because it has {self.legs} legs.This animal has beautiful {self.eye_color} eyes\"\n",
    "\n",
    "complete = Dog(\"Jorge\", \"Monkey\")\n",
    "final = Animal(\"milo\",\"cat\",\"green\")\n",
    "\n",
    "  \n",
    "print(complete.makeSound())\n",
    "print(final.Info())  "
   ]
  },
  {
   "cell_type": "markdown",
   "metadata": {},
   "source": [
    "##### Defining Attributes and Methods for the Child Class"
   ]
  },
  {
   "cell_type": "code",
   "execution_count": null,
   "metadata": {},
   "outputs": [],
   "source": []
  },
  {
   "cell_type": "markdown",
   "metadata": {},
   "source": [
    "##### Method Overriding"
   ]
  },
  {
   "cell_type": "code",
   "execution_count": null,
   "metadata": {},
   "outputs": [],
   "source": [
    "# See Above"
   ]
  },
  {
   "cell_type": "markdown",
   "metadata": {},
   "source": [
    "## Classes as Attributes <br>\n",
    "<p>Classes can also be used as attributes within another class. This is useful in situations where you need to keep variables locally stored, instead of globally stored.</p>"
   ]
  },
  {
   "cell_type": "code",
   "execution_count": null,
   "metadata": {},
   "outputs": [],
   "source": []
  },
  {
   "cell_type": "markdown",
   "metadata": {},
   "source": [
    "# Exercises"
   ]
  },
  {
   "cell_type": "markdown",
   "metadata": {},
   "source": [
    "### Exercise 1 - Turn the shopping cart program from yesterday into an object-oriented program\n",
    "\n",
    "The comments in the cell below are there as a guide for thinking about the problem. However, if you feel a different way is best for you and your own thought process, please do what feels best for you by all means."
   ]
  },
  {
   "cell_type": "code",
   "execution_count": 42,
   "metadata": {},
   "outputs": [
    {
     "name": "stdout",
     "output_type": "stream",
     "text": [
      "To continue shopping type Add, Delete, Show or Quit?: add\n",
      "what item would you like to add to your shopping cart?: apples\n",
      "To continue shopping type Add, Delete, Show or Quit?: ADD\n",
      "what item would you like to add to your shopping cart?: pizza\n",
      "To continue shopping type Add, Delete, Show or Quit?: show\n",
      "Here are all the items in your bag:\n",
      "apples\n",
      "pizza\n",
      "To continue shopping type Add, Delete, Show or Quit?: add\n",
      "what item would you like to add to your shopping cart?: taco shells\n",
      "To continue shopping type Add, Delete, Show or Quit?: k\n",
      "invalid input\n",
      "To continue shopping type Add, Delete, Show or Quit?: show\n",
      "Here are all the items in your bag:\n",
      "apples\n",
      "pizza\n",
      "taco shells\n",
      "To continue shopping type Add, Delete, Show or Quit?: add\n",
      "what item would you like to add to your shopping cart?: oranges\n",
      "To continue shopping type Add, Delete, Show or Quit?: quit\n",
      "Thanks for stopping by, come again!\n",
      "apples\n",
      "pizza\n",
      "taco shells\n",
      "oranges\n"
     ]
    }
   ],
   "source": [
    "class shoppingCart():\n",
    "\n",
    "    def __init__(self, items):\n",
    "        self.items = items\n",
    "\n",
    "    def addShopping(self):\n",
    "        user_response = input(\n",
    "            \"what item would you like to add to your shopping cart?: \")\n",
    "        self.items.append(user_response)\n",
    "\n",
    "    def deleteshopping(self):\n",
    "        user_feedback = input(\n",
    "            \"What item would you like to delete from your shopping cart?: \")\n",
    "        self.items.delete(user_feedback)\n",
    "\n",
    "    def showshopping(self):\n",
    "        print(\"Here are all the items in your bag:\")\n",
    "        for x in self.items:\n",
    "            print(x)\n",
    "\n",
    "    def quitshopping(self):\n",
    "        print(\"Thanks for stopping by, come again!\")\n",
    "        for x in self.items:\n",
    "            print(x)\n",
    "\n",
    "\n",
    "completeshoppingbag = shoppingCart([])\n",
    "\n",
    "\n",
    "def question():\n",
    "\n",
    "    while True:\n",
    "\n",
    "        user_input = input(\"To continue shopping type Add, Delete, Show or Quit?: \")\n",
    "        if user_input.lower() == \"add\":\n",
    "            completeshoppingbag.addShopping()\n",
    "        elif user_input.lower() == \"delete\":\n",
    "            completeshoppingbag.deleteshopping()\n",
    "        elif user_input.lower() == \"show\":\n",
    "            completeshoppingbag.showshopping()\n",
    "        elif user_input.lower() == \"quit\":\n",
    "            completeshoppingbag.quitshopping()\n",
    "            break\n",
    "        else:\n",
    "            print(\"invalid input\")\n",
    "\n",
    "\n",
    "question()\n",
    "        "
   ]
  },
  {
   "cell_type": "markdown",
   "metadata": {},
   "source": [
    "### Exercise 2 - Write a Python class which has two methods get_String and print_String. get_String accept a string from the user and print_String print the string in upper case"
   ]
  },
  {
   "cell_type": "code",
   "execution_count": 3,
   "metadata": {},
   "outputs": [
    {
     "name": "stdout",
     "output_type": "stream",
     "text": [
      "Enter a string: hello world\n",
      "hello world\n"
     ]
    }
   ],
   "source": [
    "class pyClass():\n",
    "    \n",
    "    def __init__(self):\n",
    "        self.s = \" \"\n",
    "    def get_String(self):\n",
    "        self.s = input(\"Enter a string: \")\n",
    "    def print_String(self):\n",
    "        print(self.s)\n",
    "complete = pyClass()\n",
    "complete.get_String()\n",
    "complete.print_String()"
   ]
  },
  {
   "cell_type": "code",
   "execution_count": null,
   "metadata": {},
   "outputs": [],
   "source": []
  }
 ],
 "metadata": {
  "kernelspec": {
   "display_name": "Python 3 (ipykernel)",
   "language": "python",
   "name": "python3"
  },
  "language_info": {
   "codemirror_mode": {
    "name": "ipython",
    "version": 3
   },
   "file_extension": ".py",
   "mimetype": "text/x-python",
   "name": "python",
   "nbconvert_exporter": "python",
   "pygments_lexer": "ipython3",
   "version": "3.9.12"
  }
 },
 "nbformat": 4,
 "nbformat_minor": 2
}
